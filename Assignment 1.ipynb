{
 "cells": [
  {
   "cell_type": "markdown",
   "id": "2cffa924",
   "metadata": {},
   "source": [
    "# Q1. Create one variable containing following type of data:"
   ]
  },
  {
   "cell_type": "code",
   "execution_count": 1,
   "id": "15fbe545",
   "metadata": {},
   "outputs": [],
   "source": [
    "name =\"harshal\"  #string"
   ]
  },
  {
   "cell_type": "code",
   "execution_count": 2,
   "id": "1e2d1a04",
   "metadata": {},
   "outputs": [],
   "source": [
    "list1 = [1,3.14,'name','marks']   #list"
   ]
  },
  {
   "cell_type": "code",
   "execution_count": 3,
   "id": "be198ed4",
   "metadata": {},
   "outputs": [],
   "source": [
    "a = 5.76   #float"
   ]
  },
  {
   "cell_type": "code",
   "execution_count": 4,
   "id": "2a9867f2",
   "metadata": {},
   "outputs": [],
   "source": [
    "tuple1 = (1,2,3.134,'abs')   #tuple"
   ]
  },
  {
   "cell_type": "markdown",
   "id": "85858860",
   "metadata": {},
   "source": [
    "# Q2. Given are some following variables containing data:"
   ]
  },
  {
   "cell_type": "code",
   "execution_count": 5,
   "id": "d76ec264",
   "metadata": {},
   "outputs": [
    {
     "data": {
      "text/plain": [
       "str"
      ]
     },
     "execution_count": 5,
     "metadata": {},
     "output_type": "execute_result"
    }
   ],
   "source": [
    "var1 = ''\n",
    "type(var1)"
   ]
  },
  {
   "cell_type": "code",
   "execution_count": 6,
   "id": "47a89217",
   "metadata": {},
   "outputs": [],
   "source": [
    "var2 = '[ DS , ML , Python]'"
   ]
  },
  {
   "cell_type": "code",
   "execution_count": 7,
   "id": "ac789c2c",
   "metadata": {},
   "outputs": [
    {
     "data": {
      "text/plain": [
       "str"
      ]
     },
     "execution_count": 7,
     "metadata": {},
     "output_type": "execute_result"
    }
   ],
   "source": [
    "type(var2)"
   ]
  },
  {
   "cell_type": "code",
   "execution_count": 9,
   "id": "bb1dd66a",
   "metadata": {},
   "outputs": [
    {
     "data": {
      "text/plain": [
       "list"
      ]
     },
     "execution_count": 9,
     "metadata": {},
     "output_type": "execute_result"
    }
   ],
   "source": [
    "var3 = [ 'DS' , 'ML' , 'Python' ]\n",
    "type(var3)"
   ]
  },
  {
   "cell_type": "code",
   "execution_count": 10,
   "id": "a025f196",
   "metadata": {},
   "outputs": [
    {
     "data": {
      "text/plain": [
       "int"
      ]
     },
     "execution_count": 10,
     "metadata": {},
     "output_type": "execute_result"
    }
   ],
   "source": [
    "var4 = 1\n",
    "type(var4)"
   ]
  },
  {
   "cell_type": "markdown",
   "id": "f642b95b",
   "metadata": {},
   "source": [
    "# Q3. Explain the use of the following operators using an example:"
   ]
  },
  {
   "cell_type": "code",
   "execution_count": 11,
   "id": "7d00eb89",
   "metadata": {},
   "outputs": [
    {
     "data": {
      "text/plain": [
       "1.3333333333333333"
      ]
     },
     "execution_count": 11,
     "metadata": {},
     "output_type": "execute_result"
    }
   ],
   "source": [
    "4/3   #true divison"
   ]
  },
  {
   "cell_type": "code",
   "execution_count": 12,
   "id": "b66d8800",
   "metadata": {},
   "outputs": [
    {
     "data": {
      "text/plain": [
       "1"
      ]
     },
     "execution_count": 12,
     "metadata": {},
     "output_type": "execute_result"
    }
   ],
   "source": [
    "4%3   #modular operator gives reminder."
   ]
  },
  {
   "cell_type": "code",
   "execution_count": 13,
   "id": "803e7769",
   "metadata": {},
   "outputs": [
    {
     "data": {
      "text/plain": [
       "1"
      ]
     },
     "execution_count": 13,
     "metadata": {},
     "output_type": "execute_result"
    }
   ],
   "source": [
    "4//3   #floor division gives integer value less than or equal to quotient."
   ]
  },
  {
   "cell_type": "code",
   "execution_count": 14,
   "id": "48790354",
   "metadata": {},
   "outputs": [
    {
     "data": {
      "text/plain": [
       "9"
      ]
     },
     "execution_count": 14,
     "metadata": {},
     "output_type": "execute_result"
    }
   ],
   "source": [
    "3**2   #exponenit function "
   ]
  },
  {
   "cell_type": "markdown",
   "id": "7db1f938",
   "metadata": {},
   "source": [
    "# Q4. Create a list of length 10 of your choice containing multiple types of data. Using for loop print the element and its data type.\n"
   ]
  },
  {
   "cell_type": "code",
   "execution_count": 15,
   "id": "77e50baa",
   "metadata": {},
   "outputs": [
    {
     "name": "stdout",
     "output_type": "stream",
     "text": [
      "1\n",
      "<class 'int'>\n",
      "2\n",
      "<class 'int'>\n",
      "3\n",
      "<class 'int'>\n",
      "4\n",
      "<class 'int'>\n",
      "5\n",
      "<class 'int'>\n",
      "6\n",
      "<class 'int'>\n",
      "7\n",
      "<class 'int'>\n",
      "a\n",
      "<class 'str'>\n",
      "1.23\n",
      "<class 'float'>\n",
      "(3+4j)\n",
      "<class 'complex'>\n"
     ]
    }
   ],
   "source": [
    "list2 = [1,2,3,4,5,6,7,'a',1.23,3+4j]\n",
    "for i in list2:\n",
    "    print(i)\n",
    "    print(type(i))"
   ]
  },
  {
   "cell_type": "markdown",
   "id": "a4fa55ec",
   "metadata": {},
   "source": [
    "# Q5. Using a while loop, verify if the number A is purely divisible by number B and if so then how many times it can be divisible.\n"
   ]
  },
  {
   "cell_type": "code",
   "execution_count": 18,
   "id": "80851fe4",
   "metadata": {},
   "outputs": [
    {
     "name": "stdout",
     "output_type": "stream",
     "text": [
      "16\n",
      "4\n"
     ]
    }
   ],
   "source": [
    "a = int(input())\n",
    "b = int(input())"
   ]
  },
  {
   "cell_type": "code",
   "execution_count": 19,
   "id": "470437e5",
   "metadata": {},
   "outputs": [
    {
     "name": "stdout",
     "output_type": "stream",
     "text": [
      "2\n"
     ]
    }
   ],
   "source": [
    "c = 0\n",
    "while a%b == 0:\n",
    "    c = c+1\n",
    "    a = a/b\n",
    "print(c)"
   ]
  },
  {
   "cell_type": "markdown",
   "id": "37f70eb3",
   "metadata": {},
   "source": [
    "# Q6. Create a list containing 25 int type data. Using for loop and if-else condition print if the element is divisible by 3 or not.\n"
   ]
  },
  {
   "cell_type": "code",
   "execution_count": 20,
   "id": "61f0ae9b",
   "metadata": {},
   "outputs": [],
   "source": [
    "list3 = [x for x in range(25)]"
   ]
  },
  {
   "cell_type": "code",
   "execution_count": 21,
   "id": "aa3ffe77",
   "metadata": {},
   "outputs": [
    {
     "name": "stdout",
     "output_type": "stream",
     "text": [
      "[0, 1, 2, 3, 4, 5, 6, 7, 8, 9, 10, 11, 12, 13, 14, 15, 16, 17, 18, 19, 20, 21, 22, 23, 24]\n"
     ]
    }
   ],
   "source": [
    "print(list3)"
   ]
  },
  {
   "cell_type": "code",
   "execution_count": 22,
   "id": "e1173a52",
   "metadata": {},
   "outputs": [
    {
     "name": "stdout",
     "output_type": "stream",
     "text": [
      "0 is divisible by 3\n",
      "1 not divisible by 3\n",
      "2 not divisible by 3\n",
      "3 is divisible by 3\n",
      "4 not divisible by 3\n",
      "5 not divisible by 3\n",
      "6 is divisible by 3\n",
      "7 not divisible by 3\n",
      "8 not divisible by 3\n",
      "9 is divisible by 3\n",
      "10 not divisible by 3\n",
      "11 not divisible by 3\n",
      "12 is divisible by 3\n",
      "13 not divisible by 3\n",
      "14 not divisible by 3\n",
      "15 is divisible by 3\n",
      "16 not divisible by 3\n",
      "17 not divisible by 3\n",
      "18 is divisible by 3\n",
      "19 not divisible by 3\n",
      "20 not divisible by 3\n",
      "21 is divisible by 3\n",
      "22 not divisible by 3\n",
      "23 not divisible by 3\n",
      "24 is divisible by 3\n"
     ]
    }
   ],
   "source": [
    "for i in list3:\n",
    "    if i%3==0:\n",
    "        print(i,'is divisible by 3')\n",
    "    else:\n",
    "        print(i,'not divisible by 3')"
   ]
  },
  {
   "cell_type": "markdown",
   "id": "9ad61029",
   "metadata": {},
   "source": [
    "# Q7. What do you understand about mutable and immutable data types? Give examples for both showing this property\n"
   ]
  },
  {
   "cell_type": "markdown",
   "id": "4de708b7",
   "metadata": {},
   "source": [
    " mutable objects can be modified or changed after their declaration but the immutable objects can not be modified after their declaration."
   ]
  },
  {
   "cell_type": "markdown",
   "id": "3309cc56",
   "metadata": {},
   "source": [
    "Mutable data type:\n",
    "list \n",
    "dictionary\n",
    "set"
   ]
  },
  {
   "cell_type": "markdown",
   "id": "d2ca666b",
   "metadata": {},
   "source": [
    "Immutable data type:\n",
    "tuple\n",
    "string"
   ]
  },
  {
   "cell_type": "code",
   "execution_count": 23,
   "id": "c2749a80",
   "metadata": {},
   "outputs": [
    {
     "name": "stdout",
     "output_type": "stream",
     "text": [
      "[1, 3.14, 'name', 'marks']\n"
     ]
    }
   ],
   "source": [
    "list1 = [1,3.14,'name','marks'] \n",
    "print(list1)"
   ]
  },
  {
   "cell_type": "code",
   "execution_count": 24,
   "id": "b5b5a822",
   "metadata": {},
   "outputs": [],
   "source": [
    "list1[2] = 300"
   ]
  },
  {
   "cell_type": "code",
   "execution_count": 25,
   "id": "5196c65a",
   "metadata": {},
   "outputs": [
    {
     "name": "stdout",
     "output_type": "stream",
     "text": [
      "[1, 3.14, 300, 'marks']\n"
     ]
    }
   ],
   "source": [
    "print(list1)"
   ]
  },
  {
   "cell_type": "code",
   "execution_count": 26,
   "id": "86a3f03e",
   "metadata": {},
   "outputs": [],
   "source": [
    "#mutable "
   ]
  },
  {
   "cell_type": "code",
   "execution_count": 27,
   "id": "c0ac892f",
   "metadata": {},
   "outputs": [],
   "source": [
    "name =\"harshal\""
   ]
  },
  {
   "cell_type": "code",
   "execution_count": 28,
   "id": "470ec98b",
   "metadata": {},
   "outputs": [
    {
     "name": "stdout",
     "output_type": "stream",
     "text": [
      "harshal\n"
     ]
    }
   ],
   "source": [
    "print(name)"
   ]
  },
  {
   "cell_type": "code",
   "execution_count": 31,
   "id": "c656879f",
   "metadata": {},
   "outputs": [
    {
     "ename": "TypeError",
     "evalue": "'str' object does not support item assignment",
     "output_type": "error",
     "traceback": [
      "\u001b[1;31m---------------------------------------------------------------------------\u001b[0m",
      "\u001b[1;31mTypeError\u001b[0m                                 Traceback (most recent call last)",
      "Cell \u001b[1;32mIn[31], line 1\u001b[0m\n\u001b[1;32m----> 1\u001b[0m name[\u001b[38;5;241m2\u001b[39m] \u001b[38;5;241m=\u001b[39m \u001b[38;5;124m'\u001b[39m\u001b[38;5;124mv\u001b[39m\u001b[38;5;124m'\u001b[39m\n",
      "\u001b[1;31mTypeError\u001b[0m: 'str' object does not support item assignment"
     ]
    }
   ],
   "source": [
    "name[2] = 'v'  #TypeError: 'str' object does not support item assignment\n"
   ]
  },
  {
   "cell_type": "code",
   "execution_count": 32,
   "id": "57a39f4e",
   "metadata": {},
   "outputs": [],
   "source": [
    "#string is immutable"
   ]
  }
 ],
 "metadata": {
  "kernelspec": {
   "display_name": "Python 3 (ipykernel)",
   "language": "python",
   "name": "python3"
  },
  "language_info": {
   "codemirror_mode": {
    "name": "ipython",
    "version": 3
   },
   "file_extension": ".py",
   "mimetype": "text/x-python",
   "name": "python",
   "nbconvert_exporter": "python",
   "pygments_lexer": "ipython3",
   "version": "3.10.9"
  }
 },
 "nbformat": 4,
 "nbformat_minor": 5
}
